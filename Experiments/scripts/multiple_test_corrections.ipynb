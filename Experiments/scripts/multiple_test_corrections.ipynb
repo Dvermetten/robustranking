{
 "cells": [
  {
   "cell_type": "markdown",
   "source": [
    "# Multiple test correction\n",
    "\n",
    "Test multiple test correction methods"
   ],
   "metadata": {
    "collapsed": false
   }
  },
  {
   "cell_type": "code",
   "execution_count": 1,
   "outputs": [],
   "source": [
    "from statsmodels.stats.multitest import multipletests\n",
    "import numpy as np\n",
    "import pandas as pd\n",
    "import itertools\n",
    "import copy\n",
    "import matplotlib.pyplot as plt"
   ],
   "metadata": {
    "collapsed": false
   }
  },
  {
   "cell_type": "code",
   "execution_count": 2,
   "outputs": [],
   "source": [
    "p_values = np.array([0.00000,0.00000,0.00000,0.00000,0.00000,0.00000,0.00000,0.00000,0.00000,0.00000,0.00000,0.00000,0.00000,0.00000,0.00000,0.00000,0.00000,0.00000,0.00000,0.00000,0.00000,0.00000,0.00000,0.00010,0.00020,0.00040,0.00120,0.00130,0.00150,0.00310,0.00440,0.00450,0.00500,0.00850,0.00880,0.01040,0.01340,0.01380,0.01650,0.02140,0.02380,0.05350,0.07120,0.07340,0.10570,0.12020,0.18850,0.25740,0.37600])"
   ],
   "metadata": {
    "collapsed": false
   }
  },
  {
   "cell_type": "code",
   "execution_count": 3,
   "outputs": [],
   "source": [
    "alpha = 0.05"
   ],
   "metadata": {
    "collapsed": false
   }
  },
  {
   "cell_type": "code",
   "execution_count": 4,
   "outputs": [
    {
     "name": "stdout",
     "output_type": "stream",
     "text": [
      "no adjustment       : 41\n",
      "bonferroni          : 26\n",
      "sidak               : 26\n",
      "holm-sidak          : 29\n",
      "holm                : 29\n",
      "simes-hochberg      : 29\n",
      "hommel              : 30\n"
     ]
    }
   ],
   "source": [
    "def test(method):\n",
    "    corrected = multipletests(p_values, alpha, method=method)\n",
    "    reject = np.count_nonzero(corrected[0])\n",
    "    print(\"{:20}: {}\".format(method, reject))\n",
    "\n",
    "# bonferroni : one-step correction\n",
    "# sidak : one-step correction\n",
    "# holm-sidak : step down method using Sidak adjustments\n",
    "# holm : step-down method using Bonferroni adjustments (holm-bonferroni)\n",
    "# simes-hochberg : step-up method (independent)\n",
    "# hommel : closed method based on Simes tests (non-negative)\n",
    "print(\"{:20}: {}\".format(\"no adjustment\", np.count_nonzero(p_values < alpha)))\n",
    "test(\"bonferroni\")\n",
    "test(\"sidak\")\n",
    "test(\"holm-sidak\")\n",
    "test(\"holm\")\n",
    "test(\"simes-hochberg\")\n",
    "test(\"hommel\")"
   ],
   "metadata": {
    "collapsed": false
   }
  },
  {
   "cell_type": "code",
   "execution_count": null,
   "outputs": [],
   "source": [],
   "metadata": {
    "collapsed": false
   }
  }
 ],
 "metadata": {
  "kernelspec": {
   "display_name": "Python 3",
   "language": "python",
   "name": "python3"
  },
  "language_info": {
   "codemirror_mode": {
    "name": "ipython",
    "version": 2
   },
   "file_extension": ".py",
   "mimetype": "text/x-python",
   "name": "python",
   "nbconvert_exporter": "python",
   "pygments_lexer": "ipython2",
   "version": "2.7.6"
  }
 },
 "nbformat": 4,
 "nbformat_minor": 0
}
