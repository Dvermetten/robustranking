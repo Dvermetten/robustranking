{
 "cells": [
  {
   "cell_type": "code",
   "execution_count": 1,
   "metadata": {
    "collapsed": true,
    "ExecuteTime": {
     "end_time": "2023-07-28T08:23:50.062400Z",
     "start_time": "2023-07-28T08:23:50.060212Z"
    }
   },
   "outputs": [],
   "source": [
    "import pandas as pd\n",
    "import numpy as np\n",
    "import itertools\n",
    "import matplotlib.pyplot as plt\n",
    "import matplotlib.patches as patches\n",
    "import seaborn as sns"
   ]
  },
  {
   "cell_type": "code",
   "execution_count": 2,
   "outputs": [],
   "source": [
    "# Local\n",
    "from robustranking.benchmark import Benchmark\n",
    "from robustranking.comparison import BootstrapComparison, SubSetComparison, AggregatedComparison, MOBootstrapComparison\n",
    "from robustranking.utils import *"
   ],
   "metadata": {
    "collapsed": false,
    "ExecuteTime": {
     "end_time": "2023-07-28T08:23:50.114362Z",
     "start_time": "2023-07-28T08:23:50.063128Z"
    }
   }
  },
  {
   "cell_type": "markdown",
   "source": [
    "## Artificial data"
   ],
   "metadata": {
    "collapsed": false
   }
  },
  {
   "cell_type": "code",
   "execution_count": 3,
   "outputs": [
    {
     "data": {
      "text/plain": "                                       value\nalgorithm   instance     objective          \nAlgorithm-1 Instance-1   Runtime    1.000000\n                         Quality    0.144371\n            Instance-2   Runtime    0.226581\n                         Quality    0.245866\n            Instance-3   Runtime    0.342010\n...                                      ...\nAlgorithm-3 Instance-98  Quality    0.166300\n            Instance-99  Runtime    0.375409\n                         Quality    0.176414\n            Instance-100 Runtime    0.440395\n                         Quality    0.553108\n\n[600 rows x 1 columns]",
      "text/html": "<div>\n<style scoped>\n    .dataframe tbody tr th:only-of-type {\n        vertical-align: middle;\n    }\n\n    .dataframe tbody tr th {\n        vertical-align: top;\n    }\n\n    .dataframe thead th {\n        text-align: right;\n    }\n</style>\n<table border=\"1\" class=\"dataframe\">\n  <thead>\n    <tr style=\"text-align: right;\">\n      <th></th>\n      <th></th>\n      <th></th>\n      <th>value</th>\n    </tr>\n    <tr>\n      <th>algorithm</th>\n      <th>instance</th>\n      <th>objective</th>\n      <th></th>\n    </tr>\n  </thead>\n  <tbody>\n    <tr>\n      <th rowspan=\"5\" valign=\"top\">Algorithm-1</th>\n      <th rowspan=\"2\" valign=\"top\">Instance-1</th>\n      <th>Runtime</th>\n      <td>1.000000</td>\n    </tr>\n    <tr>\n      <th>Quality</th>\n      <td>0.144371</td>\n    </tr>\n    <tr>\n      <th rowspan=\"2\" valign=\"top\">Instance-2</th>\n      <th>Runtime</th>\n      <td>0.226581</td>\n    </tr>\n    <tr>\n      <th>Quality</th>\n      <td>0.245866</td>\n    </tr>\n    <tr>\n      <th>Instance-3</th>\n      <th>Runtime</th>\n      <td>0.342010</td>\n    </tr>\n    <tr>\n      <th>...</th>\n      <th>...</th>\n      <th>...</th>\n      <td>...</td>\n    </tr>\n    <tr>\n      <th rowspan=\"5\" valign=\"top\">Algorithm-3</th>\n      <th>Instance-98</th>\n      <th>Quality</th>\n      <td>0.166300</td>\n    </tr>\n    <tr>\n      <th rowspan=\"2\" valign=\"top\">Instance-99</th>\n      <th>Runtime</th>\n      <td>0.375409</td>\n    </tr>\n    <tr>\n      <th>Quality</th>\n      <td>0.176414</td>\n    </tr>\n    <tr>\n      <th rowspan=\"2\" valign=\"top\">Instance-100</th>\n      <th>Runtime</th>\n      <td>0.440395</td>\n    </tr>\n    <tr>\n      <th>Quality</th>\n      <td>0.553108</td>\n    </tr>\n  </tbody>\n</table>\n<p>600 rows × 1 columns</p>\n</div>"
     },
     "execution_count": 3,
     "metadata": {},
     "output_type": "execute_result"
    }
   ],
   "source": [
    "competition = Benchmark()\n",
    "algorithms = [f\"Algorithm-{i}\" for i in range(1, 4)]\n",
    "instances = [f\"Instance-{i}\" for i in range(1, 101)]\n",
    "objectives = [\"Runtime\", \"Quality\"]\n",
    "\n",
    "for a, i, o in itertools.product(algorithms, instances, objectives):\n",
    "    factor = 0.8 if a == \"Algorithm-1\" else 1\n",
    "    competition.add_run(a, i, o, factor * np.random.rand())\n",
    "competition.add_run(\"Algorithm-1\", \"Instance-1\", \"Runtime\", 1.0, replace=True)\n",
    "\n",
    "competition.to_pandas()"
   ],
   "metadata": {
    "collapsed": false,
    "ExecuteTime": {
     "end_time": "2023-07-28T08:23:50.141745Z",
     "start_time": "2023-07-28T08:23:50.125547Z"
    }
   }
  },
  {
   "cell_type": "code",
   "execution_count": 4,
   "outputs": [
    {
     "name": "stdout",
     "output_type": "stream",
     "text": [
      "[0]\n",
      "[2, 1]\n"
     ]
    },
    {
     "data": {
      "text/plain": "             group  ranked 1st  group wins  remaining\nalgorithm                                            \nAlgorithm-1      1         1.0      1.0000        0.0\nAlgorithm-2      2         0.0      0.5103        0.0\nAlgorithm-3      2         0.0      0.4897        0.0",
      "text/html": "<div>\n<style scoped>\n    .dataframe tbody tr th:only-of-type {\n        vertical-align: middle;\n    }\n\n    .dataframe tbody tr th {\n        vertical-align: top;\n    }\n\n    .dataframe thead th {\n        text-align: right;\n    }\n</style>\n<table border=\"1\" class=\"dataframe\">\n  <thead>\n    <tr style=\"text-align: right;\">\n      <th></th>\n      <th>group</th>\n      <th>ranked 1st</th>\n      <th>group wins</th>\n      <th>remaining</th>\n    </tr>\n    <tr>\n      <th>algorithm</th>\n      <th></th>\n      <th></th>\n      <th></th>\n      <th></th>\n    </tr>\n  </thead>\n  <tbody>\n    <tr>\n      <th>Algorithm-1</th>\n      <td>1</td>\n      <td>1.0</td>\n      <td>1.0000</td>\n      <td>0.0</td>\n    </tr>\n    <tr>\n      <th>Algorithm-2</th>\n      <td>2</td>\n      <td>0.0</td>\n      <td>0.5103</td>\n      <td>0.0</td>\n    </tr>\n    <tr>\n      <th>Algorithm-3</th>\n      <td>2</td>\n      <td>0.0</td>\n      <td>0.4897</td>\n      <td>0.0</td>\n    </tr>\n  </tbody>\n</table>\n</div>"
     },
     "execution_count": 4,
     "metadata": {},
     "output_type": "execute_result"
    }
   ],
   "source": [
    "comparison = BootstrapComparison(competition.filter(objectives=\"Runtime\"),\n",
    "                                 minimise=True,\n",
    "                                 bootstrap_runs=10000,\n",
    "                                 aggregation_method=np.mean)\n",
    "comparison.compute().get_ranking()"
   ],
   "metadata": {
    "collapsed": false,
    "ExecuteTime": {
     "end_time": "2023-07-28T08:23:50.334846Z",
     "start_time": "2023-07-28T08:23:50.145009Z"
    }
   }
  },
  {
   "cell_type": "code",
   "execution_count": 5,
   "outputs": [
    {
     "name": "stdout",
     "output_type": "stream",
     "text": [
      "[19264.  1364.  3680.]\n",
      "winner=0\n",
      "[1364. 3677.]\n",
      "winner=2\n"
     ]
    },
    {
     "data": {
      "text/plain": "             group  ranked 1st  remaining\nalgorithm                                \nAlgorithm-1      1      1.9306    -0.9306\nAlgorithm-3      2      0.0447    -0.9753\nAlgorithm-2      2      0.0247    -1.0000",
      "text/html": "<div>\n<style scoped>\n    .dataframe tbody tr th:only-of-type {\n        vertical-align: middle;\n    }\n\n    .dataframe tbody tr th {\n        vertical-align: top;\n    }\n\n    .dataframe thead th {\n        text-align: right;\n    }\n</style>\n<table border=\"1\" class=\"dataframe\">\n  <thead>\n    <tr style=\"text-align: right;\">\n      <th></th>\n      <th>group</th>\n      <th>ranked 1st</th>\n      <th>remaining</th>\n    </tr>\n    <tr>\n      <th>algorithm</th>\n      <th></th>\n      <th></th>\n      <th></th>\n    </tr>\n  </thead>\n  <tbody>\n    <tr>\n      <th>Algorithm-1</th>\n      <td>1</td>\n      <td>1.9306</td>\n      <td>-0.9306</td>\n    </tr>\n    <tr>\n      <th>Algorithm-3</th>\n      <td>2</td>\n      <td>0.0447</td>\n      <td>-0.9753</td>\n    </tr>\n    <tr>\n      <th>Algorithm-2</th>\n      <td>2</td>\n      <td>0.0247</td>\n      <td>-1.0000</td>\n    </tr>\n  </tbody>\n</table>\n</div>"
     },
     "execution_count": 5,
     "metadata": {},
     "output_type": "execute_result"
    }
   ],
   "source": [
    "comparison = MOBootstrapComparison(competition,\n",
    "                                 minimise=True,\n",
    "                                 bootstrap_runs=10000,\n",
    "                                 aggregation_method=np.mean)\n",
    "comparison.compute()\n",
    "\n",
    "comparison.get_ranking()"
   ],
   "metadata": {
    "collapsed": false
   }
  },
  {
   "cell_type": "code",
   "execution_count": 6,
   "outputs": [
    {
     "data": {
      "text/plain": "<Figure size 640x480 with 1 Axes>",
      "image/png": "[encoded data removed]"
     },
     "metadata": {},
     "output_type": "display_data"
    }
   ],
   "source": [
    "performances = comparison._cache[\"distributions\"]\n",
    "from scipy.stats import gaussian_kde\n",
    "\n",
    "for alg in range(performances.shape[0]):\n",
    "    x = performances[alg,:,0]\n",
    "    y = performances[alg,:,1]\n",
    "    k = gaussian_kde([x, y])\n",
    "    resolution = 128\n",
    "    xi, yi = np.mgrid[\n",
    "             performances[:,:,0].min():performances[:,:,0].max():resolution*1j,\n",
    "             performances[:,:,1].min():performances[:,:,1].max():resolution*1j\n",
    "             ]\n",
    "    zi = k(np.vstack([xi.flatten(), yi.flatten()]))\n",
    "\n",
    "    plt.pcolormesh(xi, yi, zi.reshape(xi.shape), shading=\"auto\", alpha=0.3)\n",
    "plt.show()"
   ],
   "metadata": {
    "collapsed": false
   }
  },
  {
   "cell_type": "code",
   "execution_count": 7,
   "outputs": [
    {
     "ename": "ValueError",
     "evalue": "Cannot take a larger sample than population when 'replace=False'",
     "output_type": "error",
     "traceback": [
      "\u001B[0;31m---------------------------------------------------------------------------\u001B[0m",
      "\u001B[0;31mValueError\u001B[0m                                Traceback (most recent call last)",
      "Cell \u001B[0;32mIn [7], line 6\u001B[0m\n\u001B[1;32m      4\u001B[0m df \u001B[38;5;241m=\u001B[39m pd\u001B[38;5;241m.\u001B[39mDataFrame({\u001B[38;5;124m'\u001B[39m\u001B[38;5;124mperformances\u001B[39m\u001B[38;5;124m'\u001B[39m: performances\u001B[38;5;241m.\u001B[39mflatten()}, index\u001B[38;5;241m=\u001B[39mindex)[\u001B[38;5;124m'\u001B[39m\u001B[38;5;124mperformances\u001B[39m\u001B[38;5;124m'\u001B[39m]\n\u001B[1;32m      5\u001B[0m df \u001B[38;5;241m=\u001B[39m df\u001B[38;5;241m.\u001B[39munstack(\u001B[38;5;124m\"\u001B[39m\u001B[38;5;124mobjective\u001B[39m\u001B[38;5;124m\"\u001B[39m)\u001B[38;5;241m.\u001B[39mreset_index()\n\u001B[0;32m----> 6\u001B[0m df \u001B[38;5;241m=\u001B[39m df[df[\u001B[38;5;124m\"\u001B[39m\u001B[38;5;124malgo\u001B[39m\u001B[38;5;124m\"\u001B[39m]\u001B[38;5;241m.\u001B[39misin(np\u001B[38;5;241m.\u001B[39mrandom\u001B[38;5;241m.\u001B[39mchoice(df[\u001B[38;5;124m\"\u001B[39m\u001B[38;5;124malgo\u001B[39m\u001B[38;5;124m\"\u001B[39m]\u001B[38;5;241m.\u001B[39munique(), \u001B[38;5;241m5\u001B[39m, replace\u001B[38;5;241m=\u001B[39m\u001B[38;5;28;01mFalse\u001B[39;00m))]\n\u001B[1;32m      7\u001B[0m df[\u001B[38;5;124m\"\u001B[39m\u001B[38;5;124malgo\u001B[39m\u001B[38;5;124m\"\u001B[39m] \u001B[38;5;241m=\u001B[39m [comparison\u001B[38;5;241m.\u001B[39m_cache[\u001B[38;5;124m\"\u001B[39m\u001B[38;5;124mmeta_data\u001B[39m\u001B[38;5;124m\"\u001B[39m][\u001B[38;5;124m\"\u001B[39m\u001B[38;5;124malgorithms\u001B[39m\u001B[38;5;124m\"\u001B[39m][a] \u001B[38;5;28;01mfor\u001B[39;00m a \u001B[38;5;129;01min\u001B[39;00m df[\u001B[38;5;124m\"\u001B[39m\u001B[38;5;124malgo\u001B[39m\u001B[38;5;124m\"\u001B[39m]]\n\u001B[1;32m      9\u001B[0m sns\u001B[38;5;241m.\u001B[39mjointplot(df, x\u001B[38;5;241m=\u001B[39m\u001B[38;5;241m0\u001B[39m, y\u001B[38;5;241m=\u001B[39m\u001B[38;5;241m1\u001B[39m, hue\u001B[38;5;241m=\u001B[39m\u001B[38;5;124m\"\u001B[39m\u001B[38;5;124malgo\u001B[39m\u001B[38;5;124m\"\u001B[39m, kind\u001B[38;5;241m=\u001B[39m\u001B[38;5;124m\"\u001B[39m\u001B[38;5;124mkde\u001B[39m\u001B[38;5;124m\"\u001B[39m)\n",
      "File \u001B[0;32mmtrand.pyx:965\u001B[0m, in \u001B[0;36mnumpy.random.mtrand.RandomState.choice\u001B[0;34m()\u001B[0m\n",
      "\u001B[0;31mValueError\u001B[0m: Cannot take a larger sample than population when 'replace=False'"
     ]
    }
   ],
   "source": [
    "performances = comparison._cache[\"distributions\"]\n",
    "columns=[\"algo\", \"bootstrap\", \"objective\"]\n",
    "index = pd.MultiIndex.from_product([range(s) for s in performances.shape], names=columns)\n",
    "df = pd.DataFrame({'performances': performances.flatten()}, index=index)['performances']\n",
    "df = df.unstack(\"objective\").reset_index()\n",
    "df = df[df[\"algo\"].isin(np.random.choice(df[\"algo\"].unique(), 5, replace=False))]\n",
    "df[\"algo\"] = [comparison._cache[\"meta_data\"][\"algorithms\"][a] for a in df[\"algo\"]]\n",
    "\n",
    "sns.jointplot(df, x=0, y=1, hue=\"algo\", kind=\"kde\")"
   ],
   "metadata": {
    "collapsed": false
   }
  },
  {
   "cell_type": "code",
   "execution_count": null,
   "outputs": [],
   "source": [
    "a = [False, True, True, False, True]\n",
    "\n",
    "np.argwhere(a)[np.argmax(0)]"
   ],
   "metadata": {
    "collapsed": false
   }
  },
  {
   "cell_type": "code",
   "execution_count": null,
   "outputs": [],
   "source": [
    "comparison.get_confidence_intervals()"
   ],
   "metadata": {
    "collapsed": false
   }
  },
  {
   "cell_type": "code",
   "execution_count": null,
   "outputs": [],
   "source": [
    "comparison.get_ranking()"
   ],
   "metadata": {
    "collapsed": false
   }
  },
  {
   "cell_type": "markdown",
   "source": [
    "## SAT 2022 main track"
   ],
   "metadata": {
    "collapsed": false
   }
  },
  {
   "cell_type": "code",
   "execution_count": null,
   "outputs": [],
   "source": [
    "df = pd.read_csv(\"./Rundata/sc2022-detailed-results/main-seq.csv\")\n",
    "del df[\"verified-result\"]\n",
    "del df[\"claimed-result\"]\n",
    "del df[\"hash\"]\n",
    "df = df.set_index([\"benchmark\"])\n",
    "df = df.stack().reset_index().rename(columns={\"level_1\": \"algorithm\", \"benchmark\": \"instance\", 0: \"PAR2\"})\n",
    "df[\"Solved\"] = df[\"PAR2\"] < 10000  # Solved instances\n",
    "#df = df.set_index([\"algorithm\", \"instance\"])#.stack().reset_index().rename(columns={\"level_2\": \"objective\", 0: \"value\"})\n",
    "\n",
    "competition = Benchmark()\n",
    "competition.from_pandas(df, \"algorithm\", \"instance\", [\"PAR2\", \"Solved\"])\n",
    "print(\"Complete table:\", competition.check_complete())\n",
    "competition.to_pandas().unstack(\"objective\")"
   ],
   "metadata": {
    "collapsed": false
   }
  },
  {
   "cell_type": "code",
   "execution_count": null,
   "outputs": [],
   "source": [
    "comparison = MOBootstrapComparison(competition,\n",
    "                                 alpha=0.05,\n",
    "                                 minimise={\"PAR2\": True, \"Solved\": False},\n",
    "                                 bootstrap_runs=10000,\n",
    "                                 aggregation_method={\"PAR2\": np.mean, \"Solved\": np.sum})\n",
    "%time comparison.compute()"
   ],
   "metadata": {
    "collapsed": false
   }
  },
  {
   "cell_type": "code",
   "execution_count": null,
   "outputs": [],
   "source": [
    "comparison.get_ranking()"
   ],
   "metadata": {
    "collapsed": false
   }
  },
  {
   "cell_type": "code",
   "execution_count": null,
   "outputs": [],
   "source": [
    "algorithms = [\"Kissat_MAB-HyWalk\", \"SeqFROST-NoExtend\"]\n",
    "plot_distributions_comparison(comparison, algorithms)"
   ],
   "metadata": {
    "collapsed": false
   }
  },
  {
   "cell_type": "code",
   "execution_count": null,
   "outputs": [],
   "source": [
    "comparison.statistical_test(*algorithms)"
   ],
   "metadata": {
    "collapsed": false
   }
  },
  {
   "cell_type": "code",
   "execution_count": null,
   "outputs": [],
   "source": [
    "cache = comparison._get_cache()\n",
    "s1 = cache[\"meta_data\"][\"algorithms\"].index(algorithms[0])\n",
    "s2 = cache[\"meta_data\"][\"algorithms\"].index(algorithms[1])\n",
    "\n",
    "distributions = cache[\"distributions\"]\n",
    "p_value = comparison.statistical_test(*algorithms)\n",
    "direction = -1 if comparison.minimise else 1\n",
    "diff = direction * (distributions[s1,:] - distributions[s2,:])\n",
    "diff = np.sort(diff)\n",
    "plt.grid()\n",
    "plt.plot(np.linspace(0, 1, len(diff)),diff)\n",
    "plt.axhline(0, c=\"black\", linewidth=1.25, linestyle=\"-\")\n",
    "plt.axvline(p_value, c=\"red\", linestyle=\"--\")\n",
    "plt.ylabel(\"Performance difference\")\n",
    "plt.show()\n"
   ],
   "metadata": {
    "collapsed": false
   }
  },
  {
   "cell_type": "code",
   "execution_count": null,
   "outputs": [],
   "source": [
    "comparison = SubSetComparison(competition,\n",
    "                              alpha=0.05,\n",
    "                              minimise=True,\n",
    "                              subset_size=2,\n",
    "                              aggregation_method=PAR(2, 5000))\n",
    "%time comparison.compute()"
   ],
   "metadata": {
    "collapsed": false
   }
  },
  {
   "cell_type": "code",
   "execution_count": null,
   "outputs": [],
   "source": [
    "competition.objectives\n",
    "\n",
    "comp1 = BootstrapComparison(competition.filter(objectives=\"PAR2\"),\n",
    "                            alpha=0.05,\n",
    "                            minimise=True,\n",
    "                            bootstrap_runs=10000,\n",
    "                            aggregation_method=np.mean)\n",
    "\n",
    "comp2 = BootstrapComparison(com)"
   ],
   "metadata": {
    "collapsed": false
   }
  },
  {
   "cell_type": "code",
   "execution_count": null,
   "outputs": [],
   "source": [],
   "metadata": {
    "collapsed": false,
    "pycharm": {
     "is_executing": true
    }
   }
  }
 ],
 "metadata": {
  "kernelspec": {
   "display_name": "Python 3",
   "language": "python",
   "name": "python3"
  },
  "language_info": {
   "codemirror_mode": {
    "name": "ipython",
    "version": 2
   },
   "file_extension": ".py",
   "mimetype": "text/x-python",
   "name": "python",
   "nbconvert_exporter": "python",
   "pygments_lexer": "ipython2",
   "version": "2.7.6"
  }
 },
 "nbformat": 4,
 "nbformat_minor": 0
}
